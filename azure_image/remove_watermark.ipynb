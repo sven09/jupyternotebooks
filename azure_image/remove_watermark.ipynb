{
 "cells": [
  {
   "cell_type": "code",
   "execution_count": null,
   "metadata": {},
   "outputs": [],
   "source": [
    "%pip install opencv-python\n",
    "\n",
    "\n"
   ]
  },
  {
   "cell_type": "code",
   "execution_count": 13,
   "metadata": {},
   "outputs": [
    {
     "data": {
      "text/plain": [
       "True"
      ]
     },
     "execution_count": 13,
     "metadata": {},
     "output_type": "execute_result"
    }
   ],
   "source": [
    "import cv2\n",
    "import numpy as np\n",
    "\n",
    "image = cv2.imread('watermarked_image.png')\n",
    "\n",
    "# Set a threshold \n",
    "thresh =200 \n",
    "\n",
    "# Create a mask from image\n",
    "mask = cv2.threshold(image, thresh, 60, cv2.THRESH_BINARY)[1]\n",
    "\n",
    "# Dilate the image to increase the size of the mask\n",
    "dilated = cv2.dilate(mask, None, iterations=1)\n",
    "\n",
    "# Blur the dilated image\n",
    "blurred = cv2.medianBlur(dilated, 15)\n",
    "\n",
    "# Invert the blurred image\n",
    "inverted = cv2.bitwise_not(blurred)\n",
    "\n",
    "# Apply the inverted dilated image as a mask\n",
    "result = cv2.bitwise_and(image, inverted)\n",
    "\n",
    "# Save the resulting image\n",
    "cv2.imwrite('removed_watermark.png', result)"
   ]
  }
 ],
 "metadata": {
  "kernelspec": {
   "display_name": "langchain",
   "language": "python",
   "name": "python3"
  },
  "language_info": {
   "codemirror_mode": {
    "name": "ipython",
    "version": 3
   },
   "file_extension": ".py",
   "mimetype": "text/x-python",
   "name": "python",
   "nbconvert_exporter": "python",
   "pygments_lexer": "ipython3",
   "version": "3.10.12"
  },
  "orig_nbformat": 4
 },
 "nbformat": 4,
 "nbformat_minor": 2
}
